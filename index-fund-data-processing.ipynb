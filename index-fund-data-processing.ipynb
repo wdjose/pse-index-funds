{
 "cells": [
  {
   "cell_type": "markdown",
   "metadata": {
    "colab_type": "text",
    "id": "tzd8ZILSR5hy"
   },
   "source": [
    "# Index Fund Data Processing\n",
    "\n",
    "This notebook contains code for data scraping and formatting of index fund prices into time-series JSON files. Index funds processed include Unit Investment Trust Funds (UITF), Mutual Funds (MF), and Exchange-Traded Funds (ETF) which are invested in the Philippine Stock Exchange, track the Philippine Stock Exchange Index (PSEi), and whose portfolios track the PSEi composition. In addition, this notebook also downloads and processes the PSEi and the PSEi Total Return Index (PSEi TRI) time-series prices as benchmarks so the index funds' performances can be compared. "
   ]
  },
  {
   "cell_type": "code",
   "execution_count": 1,
   "metadata": {
    "colab": {},
    "colab_type": "code",
    "id": "_v7nzK8TSzqX"
   },
   "outputs": [],
   "source": [
    "import numpy as np\n",
    "import pandas as pd\n",
    "import requests\n",
    "from bs4 import BeautifulSoup\n",
    "import json\n",
    "import os\n",
    "from datetime import datetime"
   ]
  },
  {
   "cell_type": "code",
   "execution_count": 2,
   "metadata": {},
   "outputs": [],
   "source": [
    "overwrite_uitf = False\n",
    "overwrite_mf = False\n",
    "overwrite_etf = False\n",
    "overwrite_index = False\n",
    "\n",
    "print_json = False"
   ]
  },
  {
   "cell_type": "markdown",
   "metadata": {
    "colab_type": "text",
    "id": "tEpLkpbehK9_"
   },
   "source": [
    "## Unit Investment Trust Fund (UITF) Data Extraction\n",
    "\n",
    "The code below extracts the list of peso equity funds from uitf.com.ph, and upon user selection, will extract the entire price history of the selected fund. Output is a JSON file containing key-value pairs of \"Date\": \"NAVPU\". \n",
    "\n",
    "The UITFs included in this analysis are hand-picked below to be specifically \"index funds\"; their fund information sheets should specifically note that the portfolio track the PSEi composition. \n",
    "\n",
    "These funds are: \n",
    "- BDO Equity Index Fund\n",
    "- BDO PERA Equity Index Fund\n",
    "- BPI Philippine Equity Index Fund\n",
    "- CTBC Bank - Sun Life Philippine Stock Index Feeder Fund\n",
    "- EastWest PSEi Tracker Fund\n",
    "- PNB Phil-Index Tracker Fund\n",
    "- SB Philippine Equity Index Fund\n",
    "- UnionBank Philippine Equity Index Portfolio\n",
    "- UCPB Philippine Index Equity Fund"
   ]
  },
  {
   "cell_type": "code",
   "execution_count": 3,
   "metadata": {
    "colab": {},
    "colab_type": "code",
    "id": "0c-arnZnSgH4"
   },
   "outputs": [],
   "source": [
    "# URL containing list of Peso equity UITFs\n",
    "uitf_fund_list_url = \"http://www.uitf.com.ph/fund-matrix.php?sortby=bank&sortorder=asc&class_id=1&currency=PHP&btn=Filter\""
   ]
  },
  {
   "cell_type": "code",
   "execution_count": 4,
   "metadata": {
    "colab": {},
    "colab_type": "code",
    "id": "Nl50OkjdShc2"
   },
   "outputs": [],
   "source": [
    "# We GET from the URL above, and parse the HTML document to get the 4th <table>\n",
    "\n",
    "response = requests.get(uitf_fund_list_url)\n",
    "\n",
    "soup = BeautifulSoup(response.content)\n",
    "table = soup.find_all('table')[3]"
   ]
  },
  {
   "cell_type": "code",
   "execution_count": 5,
   "metadata": {
    "colab": {},
    "colab_type": "code",
    "id": "zSZT8JNxUhUK"
   },
   "outputs": [],
   "source": [
    "# We parse the HTML <table> and convert it to a Pandas dataframe\n",
    "# The dataframe's columns are: 'Bank', 'Fund Name', 'Bank ID', 'Fund ID'\n",
    "# The 'Bank ID' and 'Fund ID' are parsed from the 'View' GET request per row\n",
    "\n",
    "for row in table.find_all('tr'):\n",
    "  th_tags = row.find_all('th')\n",
    "  if len(th_tags) > 0:\n",
    "    column_names = [\" \".join(th.get_text().split()) for th in th_tags]\n",
    "    uitf_fund_list = pd.DataFrame(columns=(column_names + [\"Bank ID\", \"Fund ID\"]))\n",
    "  td_tags = row.find_all('td')\n",
    "  if len(td_tags) > 0:\n",
    "    row_append = pd.Series([\" \".join(td.get_text().split()) for td in td_tags], column_names)\n",
    "    \n",
    "    get_attrs = td_tags[-1].find('a').attrs['href'].split('?')[1].split('&')\n",
    "    fund_id = int(get_attrs[0].split('=')[1])\n",
    "    bank_id = int(get_attrs[1].split('=')[1])\n",
    "    bank_fund_id = pd.Series([bank_id, fund_id], [\"Bank ID\", \"Fund ID\"])\n",
    "\n",
    "    row_append = row_append.append(bank_fund_id)\n",
    "\n",
    "    uitf_fund_list = uitf_fund_list.append(row_append, ignore_index=True)\n",
    "\n",
    "uitf_fund_list = uitf_fund_list[['Bank', 'Fund Name', 'Bank ID', 'Fund ID']]"
   ]
  },
  {
   "cell_type": "code",
   "execution_count": 6,
   "metadata": {
    "colab": {},
    "colab_type": "code",
    "id": "fZFUyG0mg_q5"
   },
   "outputs": [],
   "source": [
    "# This is a manual selection (i.e. human-selected) of index equity funds from:\n",
    "# uitf_fund_list[[\"Bank\", \"Fund Name\"]].to_numpy().tolist()\n",
    "\n",
    "index_fund_name = [['BDO Unibank, Inc.', 'BDO EQUITY INDEX FUND'],\n",
    " ['BDO Unibank, Inc.', 'BDO PERA EQUITY INDEX FUND'],\n",
    " ['BPI Asset Management and Trust Corporation', 'BPI Philippine Equity Index Fund'],\n",
    " ['CTBC Bank (Philippines) Corp.', 'CTBC Bank - Sun Life Philippine Stock Index Feeder Fund'],\n",
    " ['EastWest Banking Corporation', 'EastWest PSEI Tracker Fund'],\n",
    " ['Metropolitan Bank & Trust Co.', 'Metro Philippine Equity Index Tracker Fund'],\n",
    " ['Philippine National Bank', 'PNB PHIL-INDEX TRACKER FUND(formerly PNB ENHANCED PHIL-INDEX REFERENCE FUND)'],\n",
    " ['Security Bank Corporation', 'SB PHILIPPINE EQUITY INDEX FUND'],\n",
    " ['Union Bank', 'UnionBank Philippine Equity Index Portfolio'],\n",
    " ['United Coconut Planters Bank', 'UCPB Philippine Index Equity Fund']]\n",
    "\n",
    "index_fund_name = set(tuple(x) for x in index_fund_name)\n",
    "\n",
    "uitf_index_fund_list = uitf_fund_list[uitf_fund_list.apply(lambda x: (tuple([x['Bank'], x['Fund Name']]) in index_fund_name), axis=1)].reset_index(drop=True)\n",
    "\n",
    "uitf_index_fund_list['Fund Name'] = uitf_index_fund_list['Fund Name'].replace(\n",
    "    'BDO EQUITY INDEX FUND', 'BDO Equity Index Fund').replace(\n",
    "    'BDO PERA EQUITY INDEX FUND', 'BDO PERA Equity Index Fund').replace(\n",
    "    'EastWest PSEI Tracker Fund', 'EastWest PSEi Tracker Fund').replace(\n",
    "    'PNB PHIL-INDEX TRACKER FUND(formerly PNB ENHANCED PHIL-INDEX REFERENCE FUND)', 'PNB Phil-Index Tracker Fund').replace(\n",
    "    'SB PHILIPPINE EQUITY INDEX FUND', 'SB Philippine Equity Index Fund')"
   ]
  },
  {
   "cell_type": "code",
   "execution_count": 7,
   "metadata": {
    "colab": {},
    "colab_type": "code",
    "id": "-9zdRgciJjlD"
   },
   "outputs": [],
   "source": [
    "fmonth = '01'\n",
    "fday = '01'\n",
    "fyear = '1970'\n",
    "tmonth = '12'\n",
    "tday = '31'\n",
    "tyear = '2030'\n",
    "\n",
    "data_dir = 'data'\n",
    "if not os.path.exists(data_dir):\n",
    "  os.makedirs(data_dir)"
   ]
  },
  {
   "cell_type": "code",
   "execution_count": 8,
   "metadata": {
    "colab": {
     "base_uri": "https://localhost:8080/",
     "height": 598
    },
    "colab_type": "code",
    "id": "lFMQBm0Nqnrx",
    "outputId": "add011f2-6434-4ceb-81cc-384cb22d30b5",
    "scrolled": true
   },
   "outputs": [],
   "source": [
    "for index_fund in list(uitf_index_fund_list.iterrows()):\n",
    "  bank_id = index_fund[1]['Bank ID']\n",
    "  fund_id = index_fund[1]['Fund ID']\n",
    "\n",
    "  timeseries_url = 'http://www.uitf.com.ph/daily_navpu_details_json.php?bank_id={}&fund_id={}&fmonth={}&fday={}&fyear={}&tmonth={}&tday={}&tyear={}&btn=Filter'.format(\n",
    "      bank_id, fund_id, fmonth, fday, fyear, tmonth, tday, tyear\n",
    "  )\n",
    "\n",
    "  response = requests.get(timeseries_url)\n",
    "  navpu_list = [tuple(reversed(x.replace('NAVpu : <b>', '').replace('</b>', '').replace('Date : ', '').split('<br>'))) for x in json.loads(response.content)['thlabels']]\n",
    "  \n",
    "  if print_json:\n",
    "    print(index_fund[1]['Fund Name'])\n",
    "    print(json.dumps(dict(navpu_list)))\n",
    "    print('')\n",
    "  \n",
    "  json_file = os.path.join(data_dir, index_fund[1]['Fund Name'] + '.json')\n",
    "  \n",
    "  if not os.path.isfile(json_file) or overwrite_uitf:\n",
    "    with open(json_file, 'w') as f:\n",
    "      json.dump(dict(navpu_list), f)\n",
    "  "
   ]
  },
  {
   "cell_type": "code",
   "execution_count": 9,
   "metadata": {},
   "outputs": [],
   "source": [
    "# Fix data from 'PNB Phil-Index Tracker Fund'\n",
    "raw_file = os.path.join(data_dir, 'PNB Phil-Index Tracker Fund' + '.json')\n",
    "with open(raw_file, 'r') as f:\n",
    "  raw_dict = json.loads(f.readline().strip())\n",
    "raw_dict.pop(' 26, 2016', None)\n",
    "with open(raw_file, 'w') as f:\n",
    "  json.dump(raw_dict, f)\n",
    "\n",
    "# Fix data from 'UCPB Philippine Index Equity Fund'\n",
    "raw_file = os.path.join(data_dir, 'UCPB Philippine Index Equity Fund' + '.json')\n",
    "with open(raw_file, 'r') as f:\n",
    "  raw_dict = json.loads(f.readline().strip())\n",
    "raw_dict['Jun 10, 2019'] = '1.1472'\n",
    "with open(raw_file, 'w') as f:\n",
    "  json.dump(raw_dict, f)\n",
    "\n",
    "# Fix data from 'CTBC Bank - Sun Life Philippine Stock Index Feeder Fund'\n",
    "raw_file = os.path.join(data_dir, 'CTBC Bank - Sun Life Philippine Stock Index Feeder Fund' + '.json')\n",
    "with open(raw_file, 'r') as f:\n",
    "  raw_dict = json.loads(f.readline().strip())\n",
    "raw_dict['Sep 19, 2019'] = '0.99575'\n",
    "with open(raw_file, 'w') as f:\n",
    "  json.dump(raw_dict, f)"
   ]
  },
  {
   "cell_type": "markdown",
   "metadata": {
    "colab_type": "text",
    "id": "tv3xVXiljKNK"
   },
   "source": [
    "## Mutual Fund (MF) Data Extraction\n",
    "\n",
    "The MF data was scraped using other tools; this section will transform the raw price data into the standard JSON file format used in the UITF section above. \n",
    "\n",
    "The MFs included in this analysis are hand-picked below to be specifically \"index funds\"; their fund information sheets should specifically note that the portfolio track the PSEi composition. \n",
    "\n",
    "These funds are: \n",
    "- PAMI Equity Index Fund\n",
    "- Philequity PSE Index Fund\n",
    "- Philippine Stock Index Fund\n",
    "- Sun Life Prosperity Philippine Stock Index Fund"
   ]
  },
  {
   "cell_type": "code",
   "execution_count": 10,
   "metadata": {
    "colab": {},
    "colab_type": "code",
    "id": "_-r3ar64KDXi"
   },
   "outputs": [],
   "source": [
    "raw_data_dir = 'raw-data'\n",
    "data_dir = 'data'\n",
    "if not os.path.exists(data_dir):\n",
    "  os.makedirs(data_dir)"
   ]
  },
  {
   "cell_type": "code",
   "execution_count": 11,
   "metadata": {},
   "outputs": [],
   "source": [
    "# PAMI Equity Index Fund\n",
    "\n",
    "fund_name = 'PAMI Equity Index Fund'\n",
    "raw_file = os.path.join(raw_data_dir, fund_name + '.txt')\n",
    "json_file = os.path.join(data_dir, fund_name + '.json')\n",
    "\n",
    "navps = dict()\n",
    "with open(raw_file, 'r') as f1:\n",
    "  line_list = reversed(f1.readlines())\n",
    "\n",
    "for line in line_list:\n",
    "  line = line.strip()\n",
    "  date = line.split('\\t')[0]\n",
    "  date = datetime.strptime(date, '%Y-%m-%d').strftime('%b %-d, %Y')\n",
    "  price = line.split('\\t')[1][:-1]\n",
    "  navps[date] = price\n",
    "\n",
    "if print_json:\n",
    "  print(fund_name)\n",
    "  print(json.dumps(navps))\n",
    "  print('')\n",
    "\n",
    "if not os.path.isfile(json_file) or overwrite_mf:\n",
    "  with open(json_file, 'w') as f2:\n",
    "    json.dump(navps, f2)"
   ]
  },
  {
   "cell_type": "code",
   "execution_count": 12,
   "metadata": {},
   "outputs": [],
   "source": [
    "# Philequity PSE Index Fund\n",
    "\n",
    "fund_name = 'Philequity PSE Index Fund'\n",
    "raw_file = os.path.join(raw_data_dir, fund_name + '.txt')\n",
    "json_file = os.path.join(data_dir, fund_name + '.json')\n",
    "\n",
    "navps = dict()\n",
    "with open(raw_file, 'r') as f1:\n",
    "  line_list = f1.readlines()[1:]\n",
    "\n",
    "for line in line_list:\n",
    "  line = line.strip()\n",
    "  date = line.split('\\t')[0]\n",
    "  date = datetime.strptime(date, '%Y-%m-%d').strftime('%b %-d, %Y')\n",
    "  price = line.split('\\t')[1]\n",
    "  navps[date] = price\n",
    "\n",
    "if print_json:\n",
    "  print(fund_name)\n",
    "  print(json.dumps(navps))\n",
    "  print('')\n",
    "\n",
    "if not os.path.isfile(json_file) or overwrite_mf:\n",
    "  with open(json_file, 'w') as f2:\n",
    "    json.dump(navps, f2)"
   ]
  },
  {
   "cell_type": "code",
   "execution_count": 13,
   "metadata": {},
   "outputs": [],
   "source": [
    "# Philippine Stock Index Fund\n",
    "\n",
    "fund_name = 'Philippine Stock Index Fund'\n",
    "raw_file = os.path.join(raw_data_dir, fund_name + '.txt')\n",
    "json_file = os.path.join(data_dir, fund_name + '.json')\n",
    "\n",
    "navps = dict()\n",
    "with open(raw_file, 'r') as f1:\n",
    "  raw_dict = json.loads(f1.readline().strip())\n",
    "\n",
    "date_list = raw_dict['category']\n",
    "price_list = raw_dict['values']\n",
    "\n",
    "for i in range(len(date_list)):\n",
    "  date = date_list[i]\n",
    "  date = datetime.strptime(date, '%Y-%m-%d').strftime('%b %-d, %Y')\n",
    "  price = \"{}\".format(price_list[i])\n",
    "  navps[date] = price\n",
    "\n",
    "if print_json:\n",
    "  print(fund_name)\n",
    "  print(json.dumps(navps))\n",
    "  print('')\n",
    "\n",
    "if not os.path.isfile(json_file) or overwrite_mf:\n",
    "  with open(json_file, 'w') as f2:\n",
    "    json.dump(navps, f2)"
   ]
  },
  {
   "cell_type": "code",
   "execution_count": 14,
   "metadata": {},
   "outputs": [],
   "source": [
    "# Sun Life Prosperity Philippine Stock Index Fund\n",
    "\n",
    "fund_name = 'Sun Life Prosperity Philippine Stock Index Fund'\n",
    "raw_file = os.path.join(raw_data_dir, fund_name + '.txt')\n",
    "json_file = os.path.join(data_dir, fund_name + '.json')\n",
    "\n",
    "navps = dict()\n",
    "with open(raw_file, 'r') as f1:\n",
    "  line_list = f1.readline().strip()[3:-3].split('\\'), (\\'')\n",
    "\n",
    "for line in line_list:\n",
    "  line = line.strip()\n",
    "  date = line.split('\\', \\'')[0]\n",
    "  date = datetime.strptime(date, '%b %d, %Y').strftime('%b %-d, %Y')\n",
    "  price = line.split('\\', \\'')[1]\n",
    "  navps[date] = price\n",
    "\n",
    "if print_json:\n",
    "  print(fund_name)\n",
    "  print(json.dumps(navps))\n",
    "  print('')\n",
    "\n",
    "if not os.path.isfile(json_file) or overwrite_mf:\n",
    "  with open(json_file, 'w') as f2:\n",
    "    json.dump(navps, f2)"
   ]
  },
  {
   "cell_type": "markdown",
   "metadata": {
    "colab_type": "text",
    "id": "ySWwfHCYjQwO"
   },
   "source": [
    "## Exchange-Traded Fund (ETF) Data Extraction\n",
    "\n",
    "The ETF data was also scraped using other tools; this section will transform the raw price data into the standard JSON file format used in the UITF and MF sections above. \n",
    "\n",
    "Currently, there is only one ETF in the PSE, and it specifically tracks the PSEi composition; hence, it is an index fund. \n",
    "\n",
    "This fund is: \n",
    "- First Metro Equity Exchange-Traded Fund"
   ]
  },
  {
   "cell_type": "code",
   "execution_count": 15,
   "metadata": {
    "colab": {},
    "colab_type": "code",
    "id": "VV2Ws6_QjRVv"
   },
   "outputs": [],
   "source": [
    "raw_data_dir = 'raw-data'\n",
    "data_dir = 'data'\n",
    "if not os.path.exists(data_dir):\n",
    "  os.makedirs(data_dir)"
   ]
  },
  {
   "cell_type": "code",
   "execution_count": 16,
   "metadata": {},
   "outputs": [],
   "source": [
    "# First Metro Equity Exchange-Traded Fund\n",
    "\n",
    "fund_name = 'First Metro Equity Exchange-Traded Fund'\n",
    "raw_file = os.path.join(raw_data_dir, fund_name + '.txt')\n",
    "json_file = os.path.join(data_dir, fund_name + '.json')\n",
    "\n",
    "navps = dict()\n",
    "with open(raw_file, 'r') as f1:\n",
    "  line_list = f1.readline().strip()[2:-2].split('],[')\n",
    "\n",
    "for line in line_list:\n",
    "  line = line.strip()\n",
    "  date = int(line.split(',')[0]) // 1000\n",
    "  date = datetime.utcfromtimestamp(date).strftime('%b %d, %Y')\n",
    "  price = line.split(',')[1]\n",
    "  navps[date] = price\n",
    "\n",
    "if print_json:\n",
    "  print(fund_name)\n",
    "  print(json.dumps(navps))\n",
    "  print('')\n",
    "\n",
    "if not os.path.isfile(json_file) or overwrite_etf:\n",
    "  with open(json_file, 'w') as f2:\n",
    "    json.dump(navps, f2)"
   ]
  },
  {
   "cell_type": "markdown",
   "metadata": {
    "colab_type": "text",
    "id": "7ivu09_tjR6I"
   },
   "source": [
    "## PSEi and PSEi TRI Data Extraction\n",
    "\n",
    "The PSEi and PSEi TRI were also scraped / downloaded using other tools and sources. This section will transform the raw price data into the standard JSON file format used in the UITF, MF, and ETF sections above. "
   ]
  },
  {
   "cell_type": "code",
   "execution_count": 17,
   "metadata": {
    "colab": {},
    "colab_type": "code",
    "id": "J7805ZbsjSIn"
   },
   "outputs": [],
   "source": [
    "raw_data_dir = 'raw-data'\n",
    "data_dir = 'data'\n",
    "if not os.path.exists(data_dir):\n",
    "  os.makedirs(data_dir)"
   ]
  },
  {
   "cell_type": "code",
   "execution_count": 18,
   "metadata": {},
   "outputs": [],
   "source": [
    "# PSEi\n",
    "\n",
    "fund_name = 'PSEi'\n",
    "raw_file = os.path.join(raw_data_dir, fund_name + '.txt')\n",
    "json_file = os.path.join(data_dir, fund_name + '.json')\n",
    "\n",
    "navps = dict()\n",
    "with open(raw_file, 'r') as f1:\n",
    "  line_list = f1.readlines()[1:]\n",
    "\n",
    "for line in line_list:\n",
    "  line = line.strip()\n",
    "  date = line.split(',')[0]\n",
    "  date = datetime.strptime(date, '%Y-%m-%d').strftime('%b %-d, %Y')\n",
    "  price = line.split(',')[4]\n",
    "  navps[date] = price\n",
    "\n",
    "if print_json:\n",
    "  print(fund_name)\n",
    "  print(json.dumps(navps))\n",
    "  print('')\n",
    "\n",
    "if not os.path.isfile(json_file) or overwrite_index:\n",
    "  with open(json_file, 'w') as f2:\n",
    "    json.dump(navps, f2)"
   ]
  },
  {
   "cell_type": "code",
   "execution_count": 19,
   "metadata": {},
   "outputs": [],
   "source": [
    "# PSEi Total Return\n",
    "\n",
    "fund_name = 'PSEi Total Return'\n",
    "raw_file = os.path.join(raw_data_dir, fund_name + '.txt')\n",
    "json_file = os.path.join(data_dir, fund_name + '.json')\n",
    "\n",
    "navps = dict()\n",
    "with open(raw_file, 'r') as f1:\n",
    "  line_list = f1.readlines()\n",
    "\n",
    "for line in line_list:\n",
    "  line = line.strip()\n",
    "  date = line.split('\\t')[0]\n",
    "  date = datetime.strptime(date, '%m/%d/%Y').strftime('%b %-d, %Y')\n",
    "  price = line.split('\\t')[1]\n",
    "  navps[date] = price\n",
    "\n",
    "if print_json:\n",
    "  print(fund_name)\n",
    "  print(json.dumps(navps))\n",
    "  print('')\n",
    "\n",
    "if not os.path.isfile(json_file) or overwrite_index:\n",
    "  with open(json_file, 'w') as f2:\n",
    "    json.dump(navps, f2)"
   ]
  }
 ],
 "metadata": {
  "colab": {
   "name": "Index Fund Data Processing.ipynb",
   "provenance": []
  },
  "kernelspec": {
   "display_name": "Python 3",
   "language": "python",
   "name": "python3"
  },
  "language_info": {
   "codemirror_mode": {
    "name": "ipython",
    "version": 3
   },
   "file_extension": ".py",
   "mimetype": "text/x-python",
   "name": "python",
   "nbconvert_exporter": "python",
   "pygments_lexer": "ipython3",
   "version": "3.6.9"
  }
 },
 "nbformat": 4,
 "nbformat_minor": 1
}
